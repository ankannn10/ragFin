{
 "cells": [
  {
   "cell_type": "code",
   "execution_count": 51,
   "id": "59c0460c-4bf4-496c-8711-3220b523e686",
   "metadata": {},
   "outputs": [],
   "source": [
    "pdf_file = \"reports/goog-10-k-2023-25-55-3.pdf\""
   ]
  },
  {
   "cell_type": "code",
   "execution_count": 52,
   "id": "eeefb5b8-e283-4ae5-b1e7-c41a7e4dc948",
   "metadata": {},
   "outputs": [
    {
     "name": "stdout",
     "output_type": "stream",
     "text": [
      "PDF is text-based. Using pdfplumber...\n",
      "Total tables extracted: 2\n",
      "\n",
      "--- Table 1 ---\n",
      "  October 1 - 31 9,923 38,687                            None $ 134.66  \\\n",
      "0             November 1 - 30  9,197 28,198 $ 134.53 $ 135.16     None   \n",
      "1             December 1 - 31           7,502 24,760 $ 135.76     None   \n",
      "2         Total 26,622 91,645                            None     None   \n",
      "\n",
      "   $ 135.65  48,610 $ 45,736  \n",
      "0      None             None  \n",
      "1  $ 136.37  32,262 $ 36,347  \n",
      "2      None             None  \n",
      "\n",
      "--- Table 2 ---\n",
      "Empty DataFrame\n",
      "Columns: [Note 11, of]\n",
      "Index: []\n"
     ]
    }
   ],
   "source": [
    "import os\n",
    "import fitz  # PyMuPDF\n",
    "import pdfplumber\n",
    "import camelot\n",
    "import pandas as pd\n",
    "\n",
    "def extract_tables_from_pdf(pdf_path, output_folder=\"extracted_tables\"):\n",
    "    os.makedirs(output_folder, exist_ok=True)\n",
    "    all_tables = []\n",
    "    pdf_doc = fitz.open(pdf_path)\n",
    "\n",
    "    # Step 1: Detect if text exists (text-based PDF)\n",
    "    is_text_based = any(page.get_text().strip() for page in pdf_doc)\n",
    "\n",
    "    if is_text_based:\n",
    "        print(\"PDF is text-based. Using pdfplumber...\")\n",
    "        with pdfplumber.open(pdf_path) as pdf:\n",
    "            for page_num, page in enumerate(pdf.pages):\n",
    "                tables = page.extract_tables()\n",
    "                for table_idx, table in enumerate(tables):\n",
    "                    df = pd.DataFrame(table[1:], columns=table[0])\n",
    "                    csv_path = os.path.join(output_folder, f\"table_page{page_num+1}_{table_idx+1}.csv\")\n",
    "                    df.to_csv(csv_path, index=False)\n",
    "                    all_tables.append(df)\n",
    "    else:\n",
    "        print(\"PDF is image-based or graphical. Trying Camelot...\")\n",
    "        try:\n",
    "            tables = camelot.read_pdf(pdf_path, pages='all', flavor='stream')  # or 'lattice'\n",
    "            for idx, table in enumerate(tables):\n",
    "                df = table.df\n",
    "                csv_path = os.path.join(output_folder, f\"camelot_table_{idx+1}.csv\")\n",
    "                df.to_csv(csv_path, index=False)\n",
    "                all_tables.append(df)\n",
    "        except Exception as e:\n",
    "            print(\"Camelot failed:\", e)\n",
    "\n",
    "    pdf_doc.close()\n",
    "\n",
    "    if not all_tables:\n",
    "        print(\"No tables detected. Try OCR-based extraction.\")\n",
    "\n",
    "    return all_tables\n",
    "\n",
    "\n",
    "# Example usage\n",
    "tables = extract_tables_from_pdf(pdf_file)\n",
    "\n",
    "# Print summary\n",
    "print(f\"Total tables extracted: {len(tables)}\")\n",
    "for idx, df in enumerate(tables):\n",
    "    print(f\"\\n--- Table {idx+1} ---\")\n",
    "    print(df.head())\n"
   ]
  },
  {
   "cell_type": "code",
   "execution_count": null,
   "id": "76b33b12-fcd6-4641-a14e-f5091616f80e",
   "metadata": {},
   "outputs": [],
   "source": []
  }
 ],
 "metadata": {
  "kernelspec": {
   "display_name": "Python 3 (ipykernel)",
   "language": "python",
   "name": "python3"
  },
  "language_info": {
   "codemirror_mode": {
    "name": "ipython",
    "version": 3
   },
   "file_extension": ".py",
   "mimetype": "text/x-python",
   "name": "python",
   "nbconvert_exporter": "python",
   "pygments_lexer": "ipython3",
   "version": "3.12.6"
  }
 },
 "nbformat": 4,
 "nbformat_minor": 5
}
